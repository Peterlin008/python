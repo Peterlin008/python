{
 "cells": [
  {
   "cell_type": "code",
   "execution_count": 1,
   "metadata": {},
   "outputs": [
    {
     "name": "stdout",
     "output_type": "stream",
     "text": [
      "hello world\n"
     ]
    }
   ],
   "source": [
    "print(\"hello world\")\n"
   ]
  },
  {
   "cell_type": "code",
   "execution_count": 1,
   "metadata": {},
   "outputs": [
    {
     "name": "stdout",
     "output_type": "stream",
     "text": [
      "80\n"
     ]
    }
   ],
   "source": [
    "import math\n",
    "\n",
    "x = 31\n",
    "answer = round(40* math.log((x+1)/10,10)+60)\n",
    "print(answer)"
   ]
  },
  {
   "cell_type": "code",
   "execution_count": 2,
   "metadata": {},
   "outputs": [
    {
     "name": "stdout",
     "output_type": "stream",
     "text": [
      "56 , 90\n",
      "29 , 79\n",
      "31 , 80\n",
      "44 , 86\n",
      "35 , 82\n",
      "48 , 88\n",
      "36 , 83\n",
      "25 , 77\n",
      "13 , 66\n",
      "50 , 88\n",
      "52 , 89\n",
      "25 , 77\n",
      "36 , 83\n",
      "24 , 76\n",
      "41 , 85\n",
      "59 , 91\n",
      "45 , 87\n",
      "21 , 74\n",
      "11 , 63\n",
      "25 , 77\n",
      "15 , 68\n",
      "27 , 78\n",
      "12 , 65\n",
      "37 , 83\n",
      "17 , 70\n",
      "40 , 85\n",
      "43 , 86\n",
      "28 , 78\n",
      "54 , 90\n",
      "34 , 82\n",
      "48 , 88\n",
      "26 , 77\n",
      "7 , 56\n",
      "57 , 91\n",
      "9 , 60\n",
      "3 , 44\n",
      "15 , 68\n",
      "0 , 20\n",
      "51 , 89\n",
      "14 , 67\n",
      "28 , 78\n"
     ]
    }
   ],
   "source": [
    "def get_score(x):\n",
    "    answer=round(40* math.log((x+1)/10,10)+60)\n",
    "    return answer\n",
    "score=[56, 29, 31, 44, 35, 48, 36, 25, 13, 50, 52, 25, 36, 24, 41, 59, 45, 21, 11, 25, 15, 27, 12, 37, 17, 40, 43, 28, 54, 34, 48, 26, 7, 57, 9, 3, 15, 0, 51, 14, 28]\n",
    "for s in score:\n",
    "    print(s,end=\" , \")\n",
    "    print(get_score(s))"
   ]
  }
 ],
 "metadata": {
  "kernelspec": {
   "display_name": "Python 3",
   "language": "python",
   "name": "python3"
  },
  "language_info": {
   "codemirror_mode": {
    "name": "ipython",
    "version": 3
   },
   "file_extension": ".py",
   "mimetype": "text/x-python",
   "name": "python",
   "nbconvert_exporter": "python",
   "pygments_lexer": "ipython3",
   "version": "3.10.14"
  }
 },
 "nbformat": 4,
 "nbformat_minor": 2
}
